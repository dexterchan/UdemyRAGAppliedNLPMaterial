{
 "cells": [
  {
   "cell_type": "code",
   "execution_count": null,
   "id": "ca448363-6010-49a8-8e67-ce13ea66579f",
   "metadata": {},
   "outputs": [],
   "source": [
    "#%% packages\n",
    "import pandas as pd\n",
    "import numpy as np\n",
    "from collections import Counter\n",
    "from sklearn.feature_extraction.text import CountVectorizer\n",
    "from sklearn.model_selection import train_test_split\n",
    "from sklearn.metrics import accuracy_score, confusion_matrix\n",
    "\n",
    "import torch\n",
    "import torch.nn as nn\n",
    "from torch.utils.data import Dataset, DataLoader\n",
    "\n",
    "import seaborn as sns\n",
    "import matplotlib.pyplot as plt\n",
    "import os"
   ]
  },
  {
   "cell_type": "code",
   "execution_count": null,
   "id": "5c37ffdd",
   "metadata": {},
   "outputs": [],
   "source": [
    "#%% data import \n",
    "DATA_DIR = '../data'\n",
    "twitter_file = os.path.join(DATA_DIR, 'Tweets.csv')\n",
    "df = pd.read_csv(twitter_file).dropna()\n",
    "df.head()"
   ]
  },
  {
   "cell_type": "code",
   "execution_count": null,
   "id": "4b5656d2",
   "metadata": {},
   "outputs": [],
   "source": [
    "df.isnull().sum()"
   ]
  },
  {
   "cell_type": "code",
   "execution_count": null,
   "id": "1ac231ab",
   "metadata": {},
   "outputs": [],
   "source": [
    "#drop rows with missing values\n",
    "df.dropna(subset=['text', 'selected_text'], inplace=True)"
   ]
  },
  {
   "cell_type": "code",
   "execution_count": null,
   "id": "4dacef98",
   "metadata": {},
   "outputs": [],
   "source": [
    "# %% get class values based on categories\n",
    "cat_id = {'neutral': 1, \n",
    "          'negative': 0, \n",
    "          'positive': 2}\n",
    "\n",
    "df['class'] = df['sentiment'].map(cat_id)"
   ]
  },
  {
   "cell_type": "code",
   "execution_count": null,
   "id": "d5b70124",
   "metadata": {},
   "outputs": [],
   "source": [
    "#%% Hyperparameters\n",
    "BATCH_SIZE = 512\n",
    "NUM_EPOCHS = 80"
   ]
  },
  {
   "cell_type": "code",
   "execution_count": null,
   "id": "ab28dc12",
   "metadata": {},
   "outputs": [],
   "source": [
    "#%% separate independent and dependent features\n",
    "X = df['text'].values\n",
    "y = df['class'].values"
   ]
  },
  {
   "cell_type": "code",
   "execution_count": null,
   "id": "7a98bff7",
   "metadata": {},
   "outputs": [],
   "source": [
    "# %% train test split\n",
    "TEST_DATA_RATIO = 0.5\n",
    "X_train, X_test, y_train, y_test = train_test_split(X, y, test_size = TEST_DATA_RATIO, random_state=43)\n",
    "print(f\"X train: {X_train.shape}, y train: {y_train.shape}\\nX test: {X_test.shape}, y test: {y_test.shape}\")\n"
   ]
  },
  {
   "cell_type": "code",
   "execution_count": null,
   "id": "f0b5af59",
   "metadata": {},
   "outputs": [],
   "source": [
    "# Create an instance of the CountVectorizer as OneHotEncoder\n",
    "one_hot = CountVectorizer()\n",
    "X_train_onehot = one_hot.fit_transform(X_train)\n",
    "X_test_onehot = one_hot.transform(X_test)"
   ]
  },
  {
   "cell_type": "code",
   "execution_count": null,
   "id": "9501b79c",
   "metadata": {},
   "outputs": [],
   "source": [
    "#Huge spare matrix here!\n",
    "X_train_onehot"
   ]
  },
  {
   "cell_type": "code",
   "execution_count": null,
   "id": "05d47736",
   "metadata": {},
   "outputs": [],
   "source": [
    "X_test_onehot"
   ]
  },
  {
   "cell_type": "code",
   "execution_count": null,
   "id": "43b30307",
   "metadata": {},
   "outputs": [],
   "source": [
    "#%% Dataset class\n",
    "from torch.utils.data import Dataset\n",
    "\n",
    "class SentimentData(Dataset):\n",
    "    def __init__(self, X, y):\n",
    "        super().__init__()\n",
    "        self.X = torch.Tensor(X.toarray())\n",
    "        self.y = torch.Tensor(y).type(torch.LongTensor)\n",
    "        self.len = len(self.X)\n",
    "        \n",
    "    def __len__(self):\n",
    "        return self.len\n",
    "    \n",
    "    def __getitem__(self, index):\n",
    "        return self.X[index], self.y[index]\n",
    "    \n",
    "train_ds = SentimentData(X= X_train_onehot, y=y_train)\n",
    "test_ds = SentimentData(X_test_onehot, y_test)\n"
   ]
  },
  {
   "cell_type": "code",
   "execution_count": null,
   "id": "b9d570b7",
   "metadata": {},
   "outputs": [],
   "source": [
    "# %% Dataloader\n",
    "train_loader = DataLoader(dataset=train_ds, batch_size=BATCH_SIZE, shuffle=True)\n",
    "test_loader = DataLoader(test_ds, batch_size=15000)"
   ]
  },
  {
   "cell_type": "code",
   "execution_count": null,
   "id": "69da366e",
   "metadata": {},
   "outputs": [],
   "source": [
    "# %% Model\n",
    "class SentimentModel(nn.Module):\n",
    "    def __init__(self, NUM_FEATURES, NUM_CLASSES, HIDDEN = 10):\n",
    "        super().__init__()\n",
    "        self.linear = nn.Linear(NUM_FEATURES, HIDDEN)\n",
    "        self.linear2 = nn.Linear(HIDDEN, NUM_CLASSES)\n",
    "        self.relu = nn.ReLU()\n",
    "        self.log_softmax = nn.LogSoftmax(dim=1)\n",
    "        \n",
    "    def forward(self, x):\n",
    "        x = self.linear(x)\n",
    "        x = self.relu(x)\n",
    "        x = self.linear2(x)\n",
    "        x = self.log_softmax(x)\n",
    "        return x"
   ]
  },
  {
   "cell_type": "code",
   "execution_count": null,
   "id": "75d65866",
   "metadata": {},
   "outputs": [],
   "source": [
    "#%% Model, Loss and Optimizer\n",
    "model = SentimentModel(NUM_FEATURES = X_train_onehot.shape[1], NUM_CLASSES = 3)\n",
    "\n",
    "criterion = nn.CrossEntropyLoss()\n",
    "optimizer = torch.optim.AdamW(model.parameters())"
   ]
  },
  {
   "cell_type": "code",
   "execution_count": null,
   "id": "3dd451da",
   "metadata": {},
   "outputs": [],
   "source": [
    "# %% Model Training\n",
    "\n",
    "train_losses = []\n",
    "for e in range(NUM_EPOCHS):\n",
    "    curr_loss = 0\n",
    "    for X_batch, y_batch in train_loader:\n",
    "        optimizer.zero_grad()\n",
    "        y_pred_log = model(X_batch)\n",
    "        loss = criterion(y_pred_log, y_batch.long())\n",
    "        \n",
    "        curr_loss += loss.item()\n",
    "        loss.backward()\n",
    "        optimizer.step()\n",
    "    train_losses.append(curr_loss)\n",
    "    print(f\"Epoch {e}, Loss: {curr_loss}\")"
   ]
  },
  {
   "cell_type": "code",
   "execution_count": null,
   "id": "09a3839a",
   "metadata": {},
   "outputs": [],
   "source": [
    "# %%\n",
    "sns.lineplot(x=list(range(len(train_losses))), y= train_losses)\n",
    "plt.show()"
   ]
  },
  {
   "cell_type": "code",
   "execution_count": null,
   "id": "957b9fa3",
   "metadata": {},
   "outputs": [],
   "source": [
    "with torch.no_grad():\n",
    "    for X_batch, y_batch in test_loader:\n",
    "        y_test_pred_log = model(X_batch)\n",
    "        y_test_pred = torch.argmax(y_test_pred_log, dim = 1)"
   ]
  },
  {
   "cell_type": "code",
   "execution_count": null,
   "id": "a0467270",
   "metadata": {},
   "outputs": [],
   "source": [
    "# %% \n",
    "y_test_pred_np = y_test_pred.squeeze().cpu().numpy()"
   ]
  },
  {
   "cell_type": "code",
   "execution_count": null,
   "id": "7ec4c78b",
   "metadata": {},
   "outputs": [],
   "source": [
    "# %%\n",
    "acc = accuracy_score(y_pred=y_test_pred_np, y_true = y_test)\n",
    "f\"The accuracy of the model is {np.round(acc, 3)*100}%.\""
   ]
  },
  {
   "cell_type": "code",
   "execution_count": null,
   "id": "293e73e1",
   "metadata": {},
   "outputs": [],
   "source": [
    "# %%\n",
    "most_common_cnt = Counter(y_test).most_common()[0][1]\n",
    "print(f\"Naive Classifier: {np.round(most_common_cnt / len(y_test) * 100, 1)} %\")\n"
   ]
  },
  {
   "cell_type": "code",
   "execution_count": null,
   "id": "fcd241dd",
   "metadata": {},
   "outputs": [],
   "source": [
    "#%% Confusion Matrix\n",
    "sns.heatmap(confusion_matrix(y_test_pred_np, y_test), annot=True, fmt=\".0f\")\n"
   ]
  },
  {
   "cell_type": "code",
   "execution_count": null,
   "id": "d1f54365",
   "metadata": {},
   "outputs": [],
   "source": []
  }
 ],
 "metadata": {
  "kernelspec": {
   "display_name": "Python 3 (ipykernel)",
   "language": "python",
   "name": "python3"
  },
  "language_info": {
   "codemirror_mode": {
    "name": "ipython",
    "version": 3
   },
   "file_extension": ".py",
   "mimetype": "text/x-python",
   "name": "python",
   "nbconvert_exporter": "python",
   "pygments_lexer": "ipython3",
   "version": "3.10.14"
  }
 },
 "nbformat": 4,
 "nbformat_minor": 5
}
